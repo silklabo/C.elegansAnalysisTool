{
 "metadata": {
  "language_info": {
   "codemirror_mode": {
    "name": "ipython",
    "version": 3
   },
   "file_extension": ".py",
   "mimetype": "text/x-python",
   "name": "python",
   "nbconvert_exporter": "python",
   "pygments_lexer": "ipython3",
   "version": "3.8.5-final"
  },
  "orig_nbformat": 2,
  "kernelspec": {
   "name": "python3",
   "display_name": "Python 3",
   "language": "python"
  }
 },
 "nbformat": 4,
 "nbformat_minor": 2,
 "cells": [
  {
   "cell_type": "code",
   "execution_count": null,
   "metadata": {},
   "outputs": [],
   "source": [
    "import xlrd\n",
    "import xlwt        #引入对excel操作的包\n",
    "import openpyxl    #读取表格"
   ]
  },
  {
   "cell_type": "code",
   "execution_count": null,
   "metadata": {},
   "outputs": [],
   "source": [
    "readbook= xlrd.open_workbook(\"input.xlsx\")#读取文件\n",
    "#输出excel表格中的sheet名字\n",
    "#print (readbook.sheet_names())\n",
    "time = [] #死亡天数\n",
    "status = [] #1表示死亡个数\n",
    "group = [] #处理组和对照组用输入1，2，3...表示\n",
    "#打开名为'Sheet1'的sheet\n",
    "sheet1 = readbook.sheet_by_name('Sheet1')\n",
    "nrows = sheet1.nrows#行\n",
    "ncols = sheet1.ncols#列"
   ]
  },
  {
   "cell_type": "code",
   "execution_count": null,
   "metadata": {},
   "outputs": [],
   "source": [
    "#输出行列值\n",
    "#print(nrows,ncols)\n",
    "for i in range(nrows):\n",
    "    a = (sheet1.cell(i,0).value)#第i行，第1列数值\n",
    "    b = (sheet1.cell(i,1).value)#第i行，第2列数值\n",
    "    if b == 0:#判断b是否为0\n",
    "        continue;\n",
    "    else:\n",
    "        for x in range (int(b)):\n",
    "            time.append(a)\n",
    "            status.append(1)\n",
    "            group.append(1)"
   ]
  },
  {
   "cell_type": "code",
   "execution_count": null,
   "metadata": {},
   "outputs": [],
   "source": [
    "for i in range(nrows):\n",
    "    c = (sheet1.cell(i,2).value)\n",
    "    d = (sheet1.cell(i,3).value)\n",
    "    if d == 0:#判断b是否为0\n",
    "        continue;\n",
    "    else:\n",
    "        for y in range(round(d)):\n",
    "            #print(each)\n",
    "            time.append(c)\n",
    "            status.append(1)\n",
    "            group.append(2)"
   ]
  },
  {
   "cell_type": "code",
   "execution_count": null,
   "metadata": {},
   "outputs": [],
   "source": [
    "total_list = [time,status,group]\n",
    "mywb = openpyxl.Workbook()\n",
    "sheet = mywb.active;  # 获取初始的sheet\n",
    "sheet.title = 'summary'\n",
    "for e in range(len(total_list)):\n",
    "    for f in range(len(total_list[0])):\n",
    "        sheet.cell(f + 1, e + 1).value = total_list[e][f] # excel中的行和列是从1开始计数的，所以需要+1\n",
    "mywb.save(\"output.xlsx\")#保存文件\n",
    "print(\"成功写入文件\")"
   ]
  }
 ]
}